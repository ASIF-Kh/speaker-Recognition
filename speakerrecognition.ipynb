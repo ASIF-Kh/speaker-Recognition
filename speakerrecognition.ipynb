{
 "cells": [
  {
   "cell_type": "markdown",
   "metadata": {},
   "source": [
    "## IMPORTING LIBRARIES"
   ]
  },
  {
   "cell_type": "code",
   "execution_count": 1,
   "metadata": {
    "execution": {
     "iopub.execute_input": "2023-11-12T18:18:17.643587Z",
     "iopub.status.busy": "2023-11-12T18:18:17.642913Z",
     "iopub.status.idle": "2023-11-12T18:18:17.648012Z",
     "shell.execute_reply": "2023-11-12T18:18:17.647097Z",
     "shell.execute_reply.started": "2023-11-12T18:18:17.643554Z"
    },
    "trusted": true
   },
   "outputs": [],
   "source": [
    "import numpy as np # linear algebra\n",
    "import pandas as pd # data processing, CSV file I/O (e.g. pd.read_csv)\n",
    "import os\n",
    "import shutil\n",
    "import matplotlib.pyplot as plt\n",
    "import numpy as np\n",
    "import librosa\n",
    "from tqdm import tqdm"
   ]
  },
  {
   "cell_type": "markdown",
   "metadata": {},
   "source": [
    "# Dataset building"
   ]
  },
  {
   "cell_type": "code",
   "execution_count": null,
   "metadata": {},
   "outputs": [],
   "source": [
    "import os\n",
    "import shutil\n",
    "import random\n",
    "from tqdm import tqdm\n",
    "\n",
    "# Define dataset directory\n",
    "dataset_path = \"./16000_pcm_speeches/audio\"  # Change this to your dataset folder path\n",
    "\n",
    "# Get all subfolders\n",
    "folders = [f for f in os.listdir(dataset_path) if os.path.isdir(os.path.join(dataset_path, f))]\n",
    "\n",
    "# Randomly choose one folder as the speaker folder\n",
    "speaker_folder = \"Nelson_Mandela\"\n",
    "\n",
    "# Define output directories\n",
    "speaker_dir = \"speaker\"\n",
    "non_speaker_dir = \"non_speaker\"\n",
    "\n",
    "# Create output directories if they don't exist\n",
    "os.makedirs(speaker_dir, exist_ok=True)\n",
    "os.makedirs(non_speaker_dir, exist_ok=True)\n",
    "\n",
    "# Copy and rename files\n",
    "for folder in folders:\n",
    "    folder_path = os.path.join(dataset_path, folder)\n",
    "    dest_folder = speaker_dir if folder == speaker_folder else non_speaker_dir\n",
    "    print(f\"Copying files from {folder} to {dest_folder}...\")\n",
    "    for file in tqdm(os.listdir(folder_path)):\n",
    "        file_path = os.path.join(folder_path, file)\n",
    "        if os.path.isfile(file_path):  # Ensure it's a file\n",
    "            new_filename = f\"{folder}_{file}\"  # Append folder name\n",
    "            shutil.copy(file_path, os.path.join(dest_folder, new_filename))\n",
    "\n",
    "print(f\"Speaker files copied from: {speaker_folder}\")\n",
    "print(\"All other files copied to non_speaker folder with renamed format '<foldername>_<filename>'.\")\n"
   ]
  },
  {
   "cell_type": "markdown",
   "metadata": {},
   "source": [
    "## FEATURE EXTRACTION"
   ]
  },
  {
   "cell_type": "code",
   "execution_count": 2,
   "metadata": {
    "execution": {
     "iopub.execute_input": "2023-11-12T18:19:30.336242Z",
     "iopub.status.busy": "2023-11-12T18:19:30.335864Z",
     "iopub.status.idle": "2023-11-12T18:21:13.943493Z",
     "shell.execute_reply": "2023-11-12T18:21:13.941945Z",
     "shell.execute_reply.started": "2023-11-12T18:19:30.336214Z"
    },
    "trusted": true
   },
   "outputs": [
    {
     "name": "stderr",
     "output_type": "stream",
     "text": [
      "2025-02-19 13:03:55.538546: I tensorflow/core/util/port.cc:153] oneDNN custom operations are on. You may see slightly different numerical results due to floating-point round-off errors from different computation orders. To turn them off, set the environment variable `TF_ENABLE_ONEDNN_OPTS=0`.\n",
      "2025-02-19 13:03:55.699756: E external/local_xla/xla/stream_executor/cuda/cuda_fft.cc:477] Unable to register cuFFT factory: Attempting to register factory for plugin cuFFT when one has already been registered\n",
      "WARNING: All log messages before absl::InitializeLog() is called are written to STDERR\n",
      "E0000 00:00:1739950435.779677   24922 cuda_dnn.cc:8310] Unable to register cuDNN factory: Attempting to register factory for plugin cuDNN when one has already been registered\n",
      "E0000 00:00:1739950435.824587   24922 cuda_blas.cc:1418] Unable to register cuBLAS factory: Attempting to register factory for plugin cuBLAS when one has already been registered\n",
      "2025-02-19 13:03:55.996216: I tensorflow/core/platform/cpu_feature_guard.cc:210] This TensorFlow binary is optimized to use available CPU instructions in performance-critical operations.\n",
      "To enable the following instructions: AVX2 AVX_VNNI FMA, in other operations, rebuild TensorFlow with the appropriate compiler flags.\n",
      "100%|██████████| 1500/1500 [00:35<00:00, 42.33it/s]\n",
      "100%|██████████| 6001/6001 [02:01<00:00, 49.58it/s]\n"
     ]
    }
   ],
   "source": [
    "import tensorflow as tf\n",
    "from sklearn.model_selection import train_test_split\n",
    "from sklearn.preprocessing import LabelEncoder\n",
    "from sklearn.preprocessing import StandardScaler\n",
    "\n",
    "# Set the parent directory for speaker folders\n",
    "parent_dir = \"./dataset\"\n",
    "\n",
    "# List of speaker folders\n",
    "speaker_folders = [\n",
    "    \"speaker\",\n",
    "    \"non_speaker\",\n",
    "\n",
    "]\n",
    "\n",
    "def extract_features(parent_dir, speaker_folders):\n",
    "    features = []\n",
    "    labels = []\n",
    "\n",
    "    for i, speaker_folder in enumerate(speaker_folders):\n",
    "        speaker_folder_path = os.path.join(parent_dir, speaker_folder)\n",
    "\n",
    "        for filename in tqdm(os.listdir(speaker_folder_path)):\n",
    "            if filename.endswith(\".wav\"):\n",
    "                file_path = os.path.join(speaker_folder_path, filename)\n",
    "                audio, sr = librosa.load(file_path, sr=None, duration=1)\n",
    "                mfccs = librosa.feature.mfcc(y=audio, sr=sr, n_mfcc=13)\n",
    "                \n",
    "                # Normalize MFCC features\n",
    "                mfccs = StandardScaler().fit_transform(mfccs)\n",
    "                \n",
    "                features.append(mfccs.T)\n",
    "                labels.append(i)\n",
    "\n",
    "    return np.array(features), np.array(labels)\n",
    "\n",
    "# Extract features and labels\n",
    "X, y = extract_features(parent_dir, speaker_folders)"
   ]
  },
  {
   "cell_type": "code",
   "execution_count": 3,
   "metadata": {
    "collapsed": true,
    "execution": {
     "iopub.execute_input": "2023-11-12T18:22:38.480384Z",
     "iopub.status.busy": "2023-11-12T18:22:38.479223Z",
     "iopub.status.idle": "2023-11-12T18:22:38.491013Z",
     "shell.execute_reply": "2023-11-12T18:22:38.489979Z",
     "shell.execute_reply.started": "2023-11-12T18:22:38.480351Z"
    },
    "jupyter": {
     "outputs_hidden": true
    },
    "trusted": true
   },
   "outputs": [
    {
     "name": "stdout",
     "output_type": "stream",
     "text": [
      "[[-3.3519223   0.71071965  0.19151686 -0.17820357  0.29945368  0.44474334\n",
      "   0.35982573  0.58450997  0.32516792  0.508709   -0.17174487  0.14186478\n",
      "   0.13535982]\n",
      " [-0.48726568  2.3298376   0.8715698  -0.21357974  0.6018518   0.5908124\n",
      "  -0.27008572  0.5509829  -0.619417    0.02918458 -1.9414716  -0.36961496\n",
      "  -1.0728043 ]\n",
      " [ 2.4120066   1.241598    0.5802003   0.35867757  0.3707296   0.3013019\n",
      "  -0.6936464  -0.35401192 -0.72531474 -0.31400824 -1.2557967  -0.57848036\n",
      "  -1.3432556 ]\n",
      " [ 1.4729887   1.3262541   0.81653124  1.2604736   0.60707086  0.5626623\n",
      "  -0.6999824  -0.47470134 -0.9284792  -0.40080732 -1.1461962  -0.87468284\n",
      "  -1.5211314 ]\n",
      " [-0.35289228  1.3712579   1.2118194   1.7040757   1.0965445   0.46221206\n",
      "  -0.6141302  -0.25156513 -1.0629911  -0.3410071  -1.2689323  -0.97679096\n",
      "  -0.9776002 ]\n",
      " [-1.5247109   1.4934533   1.2919319   1.3823392   1.1178652   0.45333096\n",
      "  -0.47052774 -0.04630015 -0.80532473 -0.18437174 -1.097654   -0.8420789\n",
      "  -0.76795226]\n",
      " [-2.1555116   1.4698662   1.3904921   1.1028179   0.94489294  0.45947826\n",
      "  -0.446094    0.0561877  -0.6386744  -0.25362086 -0.72430265 -0.51912117\n",
      "  -0.68640995]\n",
      " [-1.9349723   1.6177084   1.3486669   1.1368316   0.89390004  0.6423868\n",
      "  -0.45674694 -0.08852693 -0.75499463 -0.41389483 -0.77739984 -0.51126844\n",
      "  -0.7016897 ]\n",
      " [-1.9945854   1.9397612   1.1970407   1.1667327   0.5756187   0.4326902\n",
      "  -0.33782542 -0.0539345  -0.8256843  -0.45108962 -0.70320207 -0.4377195\n",
      "  -0.5078026 ]\n",
      " [-1.4217693   2.34135     1.276589    1.0543582   0.46093538 -0.2608272\n",
      "  -0.9356213   0.08453061 -0.3722329  -0.73853105 -0.78618485 -0.20401935\n",
      "  -0.49857736]\n",
      " [ 0.5472165   2.168639    1.0718085   1.0915956   0.36575285 -0.8624737\n",
      "  -1.6932359   0.09104891 -0.33930135 -0.97168404 -0.51062226 -0.22976689\n",
      "  -0.7289772 ]\n",
      " [ 1.2907219   1.7244186   0.6590106   1.0832689   0.37547714 -1.0676632\n",
      "  -2.0732253   0.12173785 -0.2554278  -0.6622328  -0.19227415 -0.2630587\n",
      "  -0.740753  ]\n",
      " [ 0.94334805  1.4195937   0.795037    1.3146139   0.6459683  -0.6913715\n",
      "  -2.3744745   0.10353969 -0.07959133 -0.70746833 -0.3415889  -0.37430593\n",
      "  -0.6532999 ]\n",
      " [ 0.01145397  0.82053286  2.1318238   0.6960689   1.1484917  -0.15033917\n",
      "  -2.0907543   0.02267507 -0.09440181 -0.72725654 -0.60675764 -0.62232727\n",
      "  -0.53920984]\n",
      " [-1.0416887   0.7194258   2.3863432   0.65573967  1.181579   -0.70054066\n",
      "  -1.6491785   0.07067014 -0.10457402 -0.41739932 -0.51486593 -0.43303293\n",
      "  -0.15247798]\n",
      " [-0.31175074  1.4834762   1.7484751   1.2649634   0.8879484  -0.9514661\n",
      "  -1.7299953  -0.10891999 -0.2809404  -0.49181634 -0.8412608  -0.5513891\n",
      "  -0.11732407]\n",
      " [ 0.5437953   1.2225633   2.029234    1.0746545   0.75223684 -0.41242266\n",
      "  -1.7791382  -0.51276374 -0.40844962 -0.5193093  -0.7634754  -0.6316343\n",
      "  -0.5952907 ]\n",
      " [ 0.517406    1.6430584   1.500159    0.8769532   0.80619824  0.35005265\n",
      "  -1.9150108  -0.81084657 -0.340374   -0.47529572 -0.8131412  -0.5794064\n",
      "  -0.7597527 ]\n",
      " [-0.03701073  1.4271823   1.8013077   0.28797865  0.9296721   0.93426055\n",
      "  -1.8895948  -0.81556964 -0.20093967 -0.36947748 -0.75566006 -0.49404958\n",
      "  -0.81809956]\n",
      " [-0.98842955  0.3769384   2.5248616  -0.08901271  1.3740451   0.7891\n",
      "  -1.2283604  -0.5240498  -0.32525828 -0.1334738  -0.4665918  -0.605713\n",
      "  -0.7040559 ]\n",
      " [-2.1982825  -0.25509343  2.5073872   0.13180386  1.0994834   0.28918698\n",
      "  -0.47753352 -0.13080713 -0.39877638 -0.05087943 -0.24436547 -0.10346287\n",
      "  -0.16866075]\n",
      " [-1.6069854   0.8427016   2.4704907   0.31291288  1.1777625   0.0893895\n",
      "  -1.0081735  -0.44944018 -0.4243076  -0.17979392 -0.59595454 -0.56687987\n",
      "  -0.06172216]\n",
      " [-0.7265656   1.8438259   1.9595703   0.3640978   1.1352327  -0.12298805\n",
      "  -1.2870772  -0.8671856  -0.6451586  -0.13520962 -0.77003413 -0.5740931\n",
      "  -0.17441475]\n",
      " [-0.37620676  2.0930996   1.6871034   0.5892635   1.0688424  -0.12269443\n",
      "  -1.338447   -0.8617316  -0.6549032  -0.3258173  -0.7048563  -0.47493863\n",
      "  -0.5787137 ]\n",
      " [-0.42134514  1.6816695   1.4432619   1.4983776   1.0143881   0.043667\n",
      "  -1.4284303  -0.7610425  -0.6371057  -0.36290637 -0.7461144  -0.51305795\n",
      "  -0.8113615 ]\n",
      " [-1.0878655   0.2161587   1.1050749   2.1646373   1.2776797   0.34337738\n",
      "  -1.7494111  -0.63979524 -0.295673   -0.11919948 -0.25908336 -0.385213\n",
      "  -0.57068735]\n",
      " [-0.48500592  0.64956075  1.0293219   1.7466328   1.5710292   0.35679883\n",
      "  -1.9997722  -0.74414784 -0.25558656 -0.47137278 -0.5887261  -0.65254736\n",
      "  -0.15618488]\n",
      " [-0.84278464  1.2370218   1.0049081   1.5358958   1.7175784  -0.02350177\n",
      "  -1.5830463  -0.57551193 -0.20501165 -0.77701366 -0.7991684  -0.5455991\n",
      "  -0.14376673]\n",
      " [-0.8173809   0.7385504   1.1939868   1.5301083   2.0081265  -0.57230407\n",
      "  -1.3184642  -0.0321208  -0.47521418 -1.0989835  -0.53508526 -0.37080443\n",
      "  -0.25041443]\n",
      " [ 0.3108424   1.4370593   0.8279019   0.7857139   2.156928   -0.4807544\n",
      "  -1.5002097  -0.14195217 -0.59863544 -0.813354   -0.632078   -0.51989496\n",
      "  -0.831567  ]\n",
      " [ 0.6648457   2.6569176   0.38561943 -0.43080637  1.209568    0.024507\n",
      "  -1.1927665  -0.72974    -0.66627425 -0.37121794 -0.43792373 -0.13623253\n",
      "  -0.97649634]\n",
      " [-0.33627304  3.0170355   0.39984453 -0.8959886   0.5880615   0.25446883\n",
      "  -0.57192767 -1.0016911  -0.5840787  -0.1544743   0.19165666 -0.08728869\n",
      "  -0.8193452 ]]\n"
     ]
    }
   ],
   "source": [
    "# Print the first few features\n",
    "for feature in X[:1]:\n",
    "    print(feature)"
   ]
  },
  {
   "cell_type": "code",
   "execution_count": 4,
   "metadata": {
    "execution": {
     "iopub.execute_input": "2023-11-12T18:23:38.321904Z",
     "iopub.status.busy": "2023-11-12T18:23:38.320897Z",
     "iopub.status.idle": "2023-11-12T18:23:38.326657Z",
     "shell.execute_reply": "2023-11-12T18:23:38.325702Z",
     "shell.execute_reply.started": "2023-11-12T18:23:38.321871Z"
    },
    "trusted": true
   },
   "outputs": [
    {
     "name": "stdout",
     "output_type": "stream",
     "text": [
      "[PhysicalDevice(name='/physical_device:GPU:0', device_type='GPU')]\n"
     ]
    }
   ],
   "source": [
    "print(tf.config.list_physical_devices('GPU'))"
   ]
  },
  {
   "cell_type": "markdown",
   "metadata": {},
   "source": [
    "## MODEL SET UP - TRAIN/TEST SPLIT and EVALUATION"
   ]
  },
  {
   "cell_type": "markdown",
   "metadata": {},
   "source": [
    "Splitting the data into 70% train and the remaining will be split equally into validation and test datasets."
   ]
  },
  {
   "cell_type": "code",
   "execution_count": 5,
   "metadata": {
    "execution": {
     "iopub.execute_input": "2023-11-12T18:24:04.971971Z",
     "iopub.status.busy": "2023-11-12T18:24:04.971213Z",
     "iopub.status.idle": "2023-11-12T18:24:05.079631Z",
     "shell.execute_reply": "2023-11-12T18:24:05.078659Z",
     "shell.execute_reply.started": "2023-11-12T18:24:04.971940Z"
    },
    "trusted": true
   },
   "outputs": [
    {
     "name": "stdout",
     "output_type": "stream",
     "text": [
      "Training Data Shape: (5250, 32, 13)\n",
      "Validation Data Shape: (1125, 32, 13)\n"
     ]
    }
   ],
   "source": [
    "from tensorflow.keras.callbacks import EarlyStopping\n",
    "from sklearn.preprocessing import LabelEncoder\n",
    "\n",
    "# Encode labels with explicit classes\n",
    "label_encoder = LabelEncoder()\n",
    "y = label_encoder.fit_transform(y)\n",
    "label_encoder.classes_ = np.array(speaker_folders)\n",
    "\n",
    "# Split the data into training, validation, and test sets\n",
    "X_train, X_temp, y_train, y_temp = train_test_split(X, y, test_size=0.3, random_state=42)\n",
    "X_val, X_test, y_val, y_test = train_test_split(X_temp, y_temp, test_size=0.5, random_state=42)\n",
    "\n",
    "# Print the shapes of training and validation data\n",
    "print(\"Training Data Shape:\", X_train.shape)\n",
    "print(\"Validation Data Shape:\", X_val.shape)"
   ]
  },
  {
   "cell_type": "markdown",
   "metadata": {},
   "source": [
    "## TRAINING"
   ]
  },
  {
   "cell_type": "markdown",
   "metadata": {},
   "source": [
    "In the context of setting up neural network layers, the numbers 128 and 64 refer to the number of neurons or units in those particular layers. \n",
    "\n",
    "tf.keras.layers.LSTM(128, input_shape=(X_train.shape[1], X_train.shape[2])): This is an LSTM (Long Short-Term Memory) layer with 128 units. The LSTM layer is a type of recurrent neural network (RNN) layer that is particularly effective for sequence data.\n",
    "\n",
    "tf.keras.layers.Dense(64, activation='relu'): This is a dense (fully connected) layer with 64 units and ReLU (Rectified Linear Unit) activation function. Dense layers are used for fully connecting every neuron in one layer to every neuron in the next layer.\n",
    "\n",
    "tf.keras.layers.Dense(len(speaker_folders), activation='softmax'): This is the output layer with as many units as there are classes (determined by len(speaker_folders)). The softmax activation function is often used in the output layer for multi-class classification problems, as it converts raw scores into probabilities.\n",
    "\n",
    "These choices (128, 64) are somewhat arbitrary and can be adjusted based on the specific characteristics of your data and the complexity of the problem. The number of units in a layer is a hyperparameter that you can experiment with during model tuning. More complex problems or data may require more units, but this also increases the model's capacity and may lead to overfitting if not balanced."
   ]
  },
  {
   "cell_type": "markdown",
   "metadata": {},
   "source": [
    "We are also using early stopping to avoid extra runtime and overfitting on the training dataset. Running for 20 Epochs with adam optimizer for compilation."
   ]
  },
  {
   "cell_type": "code",
   "execution_count": 6,
   "metadata": {
    "execution": {
     "iopub.execute_input": "2023-11-12T18:25:48.242710Z",
     "iopub.status.busy": "2023-11-12T18:25:48.242335Z",
     "iopub.status.idle": "2023-11-12T18:26:02.074327Z",
     "shell.execute_reply": "2023-11-12T18:26:02.073430Z",
     "shell.execute_reply.started": "2023-11-12T18:25:48.242679Z"
    },
    "trusted": true
   },
   "outputs": [
    {
     "name": "stderr",
     "output_type": "stream",
     "text": [
      "I0000 00:00:1739950621.633775   24922 gpu_device.cc:2022] Created device /job:localhost/replica:0/task:0/device:GPU:0 with 1756 MB memory:  -> device: 0, name: NVIDIA GeForce RTX 3050 4GB Laptop GPU, pci bus id: 0000:01:00.0, compute capability: 8.6\n",
      "/home/asifkh/miniconda3/envs/tf/lib/python3.10/site-packages/keras/src/layers/rnn/rnn.py:200: UserWarning: Do not pass an `input_shape`/`input_dim` argument to a layer. When using Sequential models, prefer using an `Input(shape)` object as the first layer in the model instead.\n",
      "  super().__init__(**kwargs)\n"
     ]
    },
    {
     "name": "stdout",
     "output_type": "stream",
     "text": [
      "Epoch 1/20\n"
     ]
    },
    {
     "name": "stderr",
     "output_type": "stream",
     "text": [
      "I0000 00:00:1739950625.871196   25546 cuda_dnn.cc:529] Loaded cuDNN version 90300\n"
     ]
    },
    {
     "name": "stdout",
     "output_type": "stream",
     "text": [
      "\u001b[1m165/165\u001b[0m \u001b[32m━━━━━━━━━━━━━━━━━━━━\u001b[0m\u001b[37m\u001b[0m \u001b[1m6s\u001b[0m 19ms/step - accuracy: 0.9170 - loss: 0.1639 - val_accuracy: 1.0000 - val_loss: 0.0011\n",
      "Epoch 2/20\n",
      "\u001b[1m165/165\u001b[0m \u001b[32m━━━━━━━━━━━━━━━━━━━━\u001b[0m\u001b[37m\u001b[0m \u001b[1m3s\u001b[0m 17ms/step - accuracy: 0.9980 - loss: 0.0083 - val_accuracy: 0.9991 - val_loss: 0.0080\n",
      "Epoch 3/20\n",
      "\u001b[1m165/165\u001b[0m \u001b[32m━━━━━━━━━━━━━━━━━━━━\u001b[0m\u001b[37m\u001b[0m \u001b[1m3s\u001b[0m 19ms/step - accuracy: 0.9974 - loss: 0.0133 - val_accuracy: 1.0000 - val_loss: 0.0019\n",
      "Early stopping triggered at epoch 3\n"
     ]
    },
    {
     "data": {
      "image/png": "[encoded data removed]",
      "text/plain": [
       "<Figure size 640x480 with 1 Axes>"
      ]
     },
     "metadata": {},
     "output_type": "display_data"
    }
   ],
   "source": [
    "# Define the RNN model\n",
    "model = tf.keras.Sequential([\n",
    "    tf.keras.layers.LSTM(128, input_shape=(X_train.shape[1], X_train.shape[2])),\n",
    "    tf.keras.layers.Dense(64, activation='relu'),\n",
    "    tf.keras.layers.Dense(len(speaker_folders), activation='softmax')\n",
    "])\n",
    "\n",
    "# Compile the model\n",
    "model.compile(optimizer='adam', loss='sparse_categorical_crossentropy', metrics=['accuracy'])\n",
    "\n",
    "# Define the EarlyStopping callback\n",
    "early_stopping = EarlyStopping(monitor='val_loss', patience=2, restore_best_weights=True)\n",
    "\n",
    "# Train the model with EarlyStopping\n",
    "history = model.fit(X_train, y_train, validation_data=(X_val, y_val), epochs=20, batch_size=32, callbacks=[early_stopping])\n",
    "\n",
    "# Check if EarlyStopping triggered\n",
    "if early_stopping.stopped_epoch > 0:\n",
    "    print(\"Early stopping triggered at epoch\", early_stopping.stopped_epoch + 1)\n",
    "else:\n",
    "    print(\"Training completed without early stopping\")\n",
    "\n",
    "# Plot training vs validation loss\n",
    "plt.plot(history.history['loss'], label='Training Loss')\n",
    "plt.plot(history.history['val_loss'], label='Validation Loss')\n",
    "plt.xlabel('Epochs')\n",
    "plt.ylabel('Loss')\n",
    "plt.legend()\n",
    "plt.show()"
   ]
  },
  {
   "cell_type": "markdown",
   "metadata": {},
   "source": [
    "## EVALUATION"
   ]
  },
  {
   "cell_type": "code",
   "execution_count": 7,
   "metadata": {
    "execution": {
     "iopub.execute_input": "2023-11-12T18:31:38.328947Z",
     "iopub.status.busy": "2023-11-12T18:31:38.328514Z",
     "iopub.status.idle": "2023-11-12T18:31:38.806839Z",
     "shell.execute_reply": "2023-11-12T18:31:38.806070Z",
     "shell.execute_reply.started": "2023-11-12T18:31:38.328913Z"
    },
    "trusted": true
   },
   "outputs": [
    {
     "name": "stdout",
     "output_type": "stream",
     "text": [
      "\u001b[1m36/36\u001b[0m \u001b[32m━━━━━━━━━━━━━━━━━━━━\u001b[0m\u001b[37m\u001b[0m \u001b[1m1s\u001b[0m 11ms/step\n",
      "Test Evaluation Accuracy: 0.9991119005328597\n",
      "Weighted F1 Score: 0.9991112600924222\n"
     ]
    },
    {
     "data": {
      "image/png": "[encoded data removed]",
      "text/plain": [
       "<Figure size 800x600 with 2 Axes>"
      ]
     },
     "metadata": {},
     "output_type": "display_data"
    }
   ],
   "source": [
    "import seaborn as sns\n",
    "from sklearn.metrics import confusion_matrix\n",
    "from sklearn.metrics import accuracy_score, f1_score\n",
    "\n",
    "# Evaluate the model on the test set\n",
    "y_pred_probabilities = model.predict(X_test)\n",
    "y_pred = np.argmax(y_pred_probabilities, axis=1)\n",
    "\n",
    "# Decode labels back to original format\n",
    "y_test_decoded = label_encoder.inverse_transform(y_test)\n",
    "y_pred_decoded = label_encoder.inverse_transform(y_pred)\n",
    "\n",
    "# Create a confusion matrix\n",
    "conf_matrix = confusion_matrix(y_test_decoded, y_pred_decoded, labels=speaker_folders)\n",
    "\n",
    "# Calculate accuracy\n",
    "accuracy = accuracy_score(y_test_decoded, y_pred_decoded)\n",
    "print(f\"Test Evaluation Accuracy: {accuracy}\")\n",
    "\n",
    "# Calculate F1 score\n",
    "f1 = f1_score(y_test_decoded, y_pred_decoded, labels=speaker_folders, average='weighted')\n",
    "print(f\"Weighted F1 Score: {f1}\")\n",
    "\n",
    "# Plot the confusion matrix\n",
    "plt.figure(figsize=(8, 6))\n",
    "sns.heatmap(conf_matrix, annot=True, fmt=\"d\", cmap=\"Blues\", xticklabels=speaker_folders, yticklabels=speaker_folders)\n",
    "\n",
    "# Rotate x-axis labels by 45 degrees\n",
    "plt.xticks(rotation=45, ha=\"right\")\n",
    "\n",
    "plt.title(\"Confusion Matrix\")\n",
    "plt.xlabel(\"Predicted Label\")\n",
    "plt.ylabel(\"True Label\")\n",
    "plt.show()"
   ]
  },
  {
   "cell_type": "markdown",
   "metadata": {},
   "source": [
    "Pleae upvote if you find this notebook helpful"
   ]
  },
  {
   "cell_type": "code",
   "execution_count": 8,
   "metadata": {},
   "outputs": [
    {
     "name": "stderr",
     "output_type": "stream",
     "text": [
      "WARNING:absl:You are saving your model as an HDF5 file via `model.save()` or `keras.saving.save_model(model)`. This file format is considered legacy. We recommend using instead the native Keras format, e.g. `model.save('my_model.keras')` or `keras.saving.save_model(model, 'my_model.keras')`. \n"
     ]
    }
   ],
   "source": [
    "# Save the model to a file\n",
    "model.save('speaker_recognition_model.h5')"
   ]
  },
  {
   "cell_type": "code",
   "execution_count": 10,
   "metadata": {},
   "outputs": [
    {
     "name": "stderr",
     "output_type": "stream",
     "text": [
      "WARNING:absl:Compiled the loaded model, but the compiled metrics have yet to be built. `model.compile_metrics` will be empty until you train or evaluate the model.\n"
     ]
    },
    {
     "name": "stdout",
     "output_type": "stream",
     "text": [
      "\u001b[1m1/1\u001b[0m \u001b[32m━━━━━━━━━━━━━━━━━━━━\u001b[0m\u001b[37m\u001b[0m \u001b[1m0s\u001b[0m 122ms/step\n",
      "The predicted class for the audio file is: non_speaker\n"
     ]
    }
   ],
   "source": [
    "import numpy as np\n",
    "import librosa\n",
    "from sklearn.preprocessing import StandardScaler\n",
    "import tensorflow as tf\n",
    "\n",
    "# Load the trained model\n",
    "model = tf.keras.models.load_model('speaker_recognition_model.h5')\n",
    "\n",
    "# Define the function to preprocess the audio file and predict the class\n",
    "def predict_audio_class(audio_file_path, model, label_encoder):\n",
    "    # Load the audio file\n",
    "    audio, sr = librosa.load(audio_file_path, sr=None, duration=1)\n",
    "    \n",
    "    # Extract MFCC features\n",
    "    mfccs = librosa.feature.mfcc(y=audio, sr=sr, n_mfcc=13)\n",
    "    \n",
    "    # Normalize MFCC features\n",
    "    mfccs = StandardScaler().fit_transform(mfccs)\n",
    "    \n",
    "    # Reshape the features to match the input shape of the model\n",
    "    mfccs = mfccs.T[np.newaxis, ...]\n",
    "    \n",
    "    # Predict the class probabilities\n",
    "    y_pred_probabilities = model.predict(mfccs)\n",
    "    \n",
    "    # Get the predicted class index\n",
    "    y_pred = np.argmax(y_pred_probabilities, axis=1)\n",
    "    \n",
    "    # Decode the predicted class index to the original label\n",
    "    y_pred_decoded = label_encoder.inverse_transform(y_pred)\n",
    "    \n",
    "    return y_pred_decoded[0]\n",
    "\n",
    "# Example usage\n",
    "audio_file_path = 'dataset/non_speaker/Benjamin_Netanyau_7.wav'\n",
    "predicted_class = predict_audio_class(audio_file_path, model, label_encoder)\n",
    "print(f\"The predicted class for the audio file is: {predicted_class}\")"
   ]
  },
  {
   "cell_type": "code",
   "execution_count": null,
   "metadata": {},
   "outputs": [],
   "source": []
  }
 ],
 "metadata": {
  "kernelspec": {
   "display_name": "tf",
   "language": "python",
   "name": "python3"
  },
  "language_info": {
   "codemirror_mode": {
    "name": "ipython",
    "version": 3
   },
   "file_extension": ".py",
   "mimetype": "text/x-python",
   "name": "python",
   "nbconvert_exporter": "python",
   "pygments_lexer": "ipython3",
   "version": "3.10.16"
  }
 },
 "nbformat": 4,
 "nbformat_minor": 4
}
